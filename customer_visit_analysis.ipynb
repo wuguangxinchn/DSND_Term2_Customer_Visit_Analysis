{
 "cells": [
  {
   "cell_type": "markdown",
   "metadata": {},
   "source": [
    "# Project: Customer Visit Analysis\n",
    "\n"
   ]
  },
  {
   "cell_type": "code",
   "execution_count": 30,
   "metadata": {},
   "outputs": [],
   "source": [
    "import pandas as pd\n",
    "import numpy as np\n",
    "import matplotlib.pyplot as plt\n",
    "%matplotlib inline\n"
   ]
  },
  {
   "cell_type": "markdown",
   "metadata": {},
   "source": [
    "## Step 0: Load the Data"
   ]
  },
  {
   "cell_type": "code",
   "execution_count": 31,
   "metadata": {},
   "outputs": [
    {
     "name": "stdout",
     "output_type": "stream",
     "text": [
      "(318807, 21)\n"
     ]
    }
   ],
   "source": [
    "data = pd.read_csv('data/visit_history.csv')\n",
    "print(data.shape)"
   ]
  },
  {
   "cell_type": "code",
   "execution_count": 33,
   "metadata": {},
   "outputs": [
    {
     "data": {
      "text/html": [
       "<div>\n",
       "<style scoped>\n",
       "    .dataframe tbody tr th:only-of-type {\n",
       "        vertical-align: middle;\n",
       "    }\n",
       "\n",
       "    .dataframe tbody tr th {\n",
       "        vertical-align: top;\n",
       "    }\n",
       "\n",
       "    .dataframe thead th {\n",
       "        text-align: right;\n",
       "    }\n",
       "</style>\n",
       "<table border=\"1\" class=\"dataframe\">\n",
       "  <thead>\n",
       "    <tr style=\"text-align: right;\">\n",
       "      <th></th>\n",
       "      <th>first_time_flag</th>\n",
       "      <th>appointment_flag</th>\n",
       "      <th>sc_flag</th>\n",
       "      <th>arrival_time</th>\n",
       "      <th>depart_time</th>\n",
       "      <th>stay_duration</th>\n",
       "      <th>drive_time_f</th>\n",
       "      <th>drive_time_t</th>\n",
       "      <th>drive_duration</th>\n",
       "      <th>drive_model</th>\n",
       "      <th>Intentional_model</th>\n",
       "      <th>current_brand</th>\n",
       "      <th>trail</th>\n",
       "      <th>quote_flag</th>\n",
       "      <th>order_flag</th>\n",
       "      <th>delivery_flag</th>\n",
       "      <th>objective</th>\n",
       "      <th>area_region</th>\n",
       "      <th>area</th>\n",
       "      <th>tier_city</th>\n",
       "      <th>subregion</th>\n",
       "    </tr>\n",
       "  </thead>\n",
       "  <tbody>\n",
       "    <tr>\n",
       "      <th>0</th>\n",
       "      <td>是</td>\n",
       "      <td>否</td>\n",
       "      <td>否</td>\n",
       "      <td>08:46</td>\n",
       "      <td>08:51</td>\n",
       "      <td>5分</td>\n",
       "      <td>NaN</td>\n",
       "      <td>NaN</td>\n",
       "      <td>NaN</td>\n",
       "      <td>NaN</td>\n",
       "      <td>A/B-Class</td>\n",
       "      <td>奔驰</td>\n",
       "      <td>散客</td>\n",
       "      <td>否</td>\n",
       "      <td>否</td>\n",
       "      <td>否</td>\n",
       "      <td>看车比价</td>\n",
       "      <td>East</td>\n",
       "      <td>Ningbo</td>\n",
       "      <td>Tier 1</td>\n",
       "      <td>East 2</td>\n",
       "    </tr>\n",
       "    <tr>\n",
       "      <th>1</th>\n",
       "      <td>是</td>\n",
       "      <td>否</td>\n",
       "      <td>SC20</td>\n",
       "      <td>08:08</td>\n",
       "      <td>08:08</td>\n",
       "      <td>0分</td>\n",
       "      <td>NaN</td>\n",
       "      <td>NaN</td>\n",
       "      <td>NaN</td>\n",
       "      <td>NaN</td>\n",
       "      <td>NaN</td>\n",
       "      <td>NaN</td>\n",
       "      <td>散客</td>\n",
       "      <td>NaN</td>\n",
       "      <td>NaN</td>\n",
       "      <td>NaN</td>\n",
       "      <td>办手续</td>\n",
       "      <td>North</td>\n",
       "      <td>Beijing</td>\n",
       "      <td>Tier 1</td>\n",
       "      <td>North 1</td>\n",
       "    </tr>\n",
       "    <tr>\n",
       "      <th>2</th>\n",
       "      <td>是</td>\n",
       "      <td>否</td>\n",
       "      <td>否</td>\n",
       "      <td>08:08</td>\n",
       "      <td>08:08</td>\n",
       "      <td>0分</td>\n",
       "      <td>NaN</td>\n",
       "      <td>NaN</td>\n",
       "      <td>NaN</td>\n",
       "      <td>NaN</td>\n",
       "      <td>PbP GLA-Class</td>\n",
       "      <td>NaN</td>\n",
       "      <td>散客</td>\n",
       "      <td>NaN</td>\n",
       "      <td>NaN</td>\n",
       "      <td>NaN</td>\n",
       "      <td>看车比价</td>\n",
       "      <td>North</td>\n",
       "      <td>Beijing</td>\n",
       "      <td>Tier 1</td>\n",
       "      <td>North 1</td>\n",
       "    </tr>\n",
       "    <tr>\n",
       "      <th>3</th>\n",
       "      <td>是</td>\n",
       "      <td>否</td>\n",
       "      <td>SC23</td>\n",
       "      <td>08:21</td>\n",
       "      <td>08:24</td>\n",
       "      <td>3分</td>\n",
       "      <td>NaN</td>\n",
       "      <td>NaN</td>\n",
       "      <td>NaN</td>\n",
       "      <td>NaN</td>\n",
       "      <td>NaN</td>\n",
       "      <td>NaN</td>\n",
       "      <td>散客</td>\n",
       "      <td>NaN</td>\n",
       "      <td>NaN</td>\n",
       "      <td>NaN</td>\n",
       "      <td>办手续</td>\n",
       "      <td>North</td>\n",
       "      <td>Beijing</td>\n",
       "      <td>Tier 1</td>\n",
       "      <td>North 1</td>\n",
       "    </tr>\n",
       "    <tr>\n",
       "      <th>4</th>\n",
       "      <td>是</td>\n",
       "      <td>否</td>\n",
       "      <td>否</td>\n",
       "      <td>08:25</td>\n",
       "      <td>08:37</td>\n",
       "      <td>12分</td>\n",
       "      <td>NaN</td>\n",
       "      <td>NaN</td>\n",
       "      <td>NaN</td>\n",
       "      <td>NaN</td>\n",
       "      <td>PbP C-Class</td>\n",
       "      <td>NaN</td>\n",
       "      <td>散客</td>\n",
       "      <td>NaN</td>\n",
       "      <td>NaN</td>\n",
       "      <td>NaN</td>\n",
       "      <td>看车比价</td>\n",
       "      <td>North</td>\n",
       "      <td>Beijing</td>\n",
       "      <td>Tier 1</td>\n",
       "      <td>North 1</td>\n",
       "    </tr>\n",
       "  </tbody>\n",
       "</table>\n",
       "</div>"
      ],
      "text/plain": [
       "  first_time_flag appointment_flag sc_flag arrival_time depart_time  \\\n",
       "0               是                否       否        08:46       08:51   \n",
       "1               是                否    SC20        08:08       08:08   \n",
       "2               是                否       否        08:08       08:08   \n",
       "3               是                否    SC23        08:21       08:24   \n",
       "4               是                否       否        08:25       08:37   \n",
       "\n",
       "  stay_duration drive_time_f drive_time_t drive_duration drive_model  \\\n",
       "0            5分          NaN          NaN            NaN         NaN   \n",
       "1            0分          NaN          NaN            NaN         NaN   \n",
       "2            0分          NaN          NaN            NaN         NaN   \n",
       "3            3分          NaN          NaN            NaN         NaN   \n",
       "4           12分          NaN          NaN            NaN         NaN   \n",
       "\n",
       "  Intentional_model current_brand trail quote_flag order_flag delivery_flag  \\\n",
       "0         A/B-Class            奔驰    散客          否          否             否   \n",
       "1               NaN           NaN    散客        NaN        NaN           NaN   \n",
       "2     PbP GLA-Class           NaN    散客        NaN        NaN           NaN   \n",
       "3               NaN           NaN    散客        NaN        NaN           NaN   \n",
       "4       PbP C-Class           NaN    散客        NaN        NaN           NaN   \n",
       "\n",
       "  objective area_region     area tier_city subregion  \n",
       "0      看车比价        East   Ningbo    Tier 1    East 2  \n",
       "1       办手续       North  Beijing    Tier 1   North 1  \n",
       "2      看车比价       North  Beijing    Tier 1   North 1  \n",
       "3       办手续       North  Beijing    Tier 1   North 1  \n",
       "4      看车比价       North  Beijing    Tier 1   North 1  "
      ]
     },
     "execution_count": 33,
     "metadata": {},
     "output_type": "execute_result"
    }
   ],
   "source": [
    "pd.set_option('display.max_columns', 100)\n",
    "data.head()"
   ]
  },
  {
   "cell_type": "markdown",
   "metadata": {},
   "source": [
    "## Step 1: Preprocessing"
   ]
  },
  {
   "cell_type": "code",
   "execution_count": 34,
   "metadata": {},
   "outputs": [
    {
     "name": "stdout",
     "output_type": "stream",
     "text": [
      "Total number of missing values is: 1264677\n"
     ]
    },
    {
     "data": {
      "text/plain": [
       "first_time_flag           0\n",
       "appointment_flag          0\n",
       "sc_flag                   0\n",
       "arrival_time              4\n",
       "depart_time               4\n",
       "stay_duration             4\n",
       "drive_time_f         260078\n",
       "drive_time_t         260078\n",
       "drive_duration       260078\n",
       "drive_model          260093\n",
       "Intentional_model      1529\n",
       "current_brand        165091\n",
       "trail                     0\n",
       "quote_flag            19221\n",
       "order_flag            19221\n",
       "delivery_flag         19221\n",
       "objective                11\n",
       "area_region               0\n",
       "area                      0\n",
       "tier_city                 0\n",
       "subregion                44\n",
       "dtype: int64"
      ]
     },
     "execution_count": 34,
     "metadata": {},
     "output_type": "execute_result"
    }
   ],
   "source": [
    "print('Total number of missing values is: {}'.format(data.isnull().sum().sum())) \n",
    "data.isnull().sum()"
   ]
  },
  {
   "cell_type": "code",
   "execution_count": 35,
   "metadata": {},
   "outputs": [
    {
     "data": {
      "text/plain": [
       "drive_model          81.583215\n",
       "drive_duration       81.578510\n",
       "drive_time_t         81.578510\n",
       "drive_time_f         81.578510\n",
       "current_brand        51.783995\n",
       "delivery_flag         6.029040\n",
       "order_flag            6.029040\n",
       "quote_flag            6.029040\n",
       "Intentional_model     0.479601\n",
       "subregion             0.013801\n",
       "objective             0.003450\n",
       "stay_duration         0.001255\n",
       "depart_time           0.001255\n",
       "arrival_time          0.001255\n",
       "dtype: float64"
      ]
     },
     "execution_count": 35,
     "metadata": {},
     "output_type": "execute_result"
    }
   ],
   "source": [
    "na_col = data.isnull().sum()\n",
    "pct_na_col =(na_col[na_col > 0] / len(data))*100 \n",
    "\n",
    "pct_na_col.sort_values(ascending=False)"
   ]
  },
  {
   "cell_type": "code",
   "execution_count": 37,
   "metadata": {},
   "outputs": [
    {
     "data": {
      "image/png": "[encoded data removed]",
      "text/plain": [
       "<Figure size 864x360 with 1 Axes>"
      ]
     },
     "metadata": {
      "needs_background": "light"
     },
     "output_type": "display_data"
    }
   ],
   "source": [
    "# let’s see a bar plot of all columns with missing values and their percentage.\n",
    "pct_na_col.sort_values(inplace=True)\n",
    "\n",
    "pct_na_col.plot.bar(figsize=(12,5))\n",
    "plt.xlabel('Column name with missing values')\n",
    "plt.ylabel('Percentage of missing values')\n",
    "plt.show()"
   ]
  },
  {
   "cell_type": "code",
   "execution_count": 13,
   "metadata": {},
   "outputs": [
    {
     "data": {
      "text/plain": [
       "array(['看车比价', '办手续', '交车', '订单', '其他', '退订', nan, '交车后退车'], dtype=object)"
      ]
     },
     "execution_count": 13,
     "metadata": {},
     "output_type": "execute_result"
    }
   ],
   "source": [
    "data.objective.unique()"
   ]
  },
  {
   "cell_type": "code",
   "execution_count": null,
   "metadata": {},
   "outputs": [],
   "source": []
  }
 ],
 "metadata": {
  "kernelspec": {
   "display_name": "Python 3",
   "language": "python",
   "name": "python3"
  },
  "language_info": {
   "codemirror_mode": {
    "name": "ipython",
    "version": 3
   },
   "file_extension": ".py",
   "mimetype": "text/x-python",
   "name": "python",
   "nbconvert_exporter": "python",
   "pygments_lexer": "ipython3",
   "version": "3.7.3"
  }
 },
 "nbformat": 4,
 "nbformat_minor": 2
}
