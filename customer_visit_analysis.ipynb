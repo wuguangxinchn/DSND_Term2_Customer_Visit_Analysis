{
 "cells": [
  {
   "cell_type": "markdown",
   "metadata": {},
   "source": [
    "# Project: Customer Visit Analysis\n",
    "\n",
    "This notebook aims to do basic customer analysis based on their visit behavior in 4s shop.\n",
    "\n",
    "If anyone has decided to buy a car, usually they will go to 4s shops to learn more about the desired car models, e.g the performance and safety parameters, price and discount, etc. Sometimes they also request for test drive.\n",
    "\n",
    "By analyzing their visit behavior, we hope to have better customer insight. Below are the questions we most care about: \n",
    "\n",
    "- Does customer usually make appointment before they visit the 4s dealer shop,  and prefer to come to a sales consultant for more information. \n",
    "- How long does the customer usually stay in the store?  \n",
    "- How many customers request for test drive, how long for each test drive? \n",
    "- How many customers make an order finally?  \n",
    "- What are the common features of these customers who purchase the car finally?  And what is the weight for each feature? \n",
    "- For those who have come to the 4s shop but have not bought a car, can we identify which has high probability to come back to buy a car? \n",
    "- Can we predict he or she will make an order based on the real-time visit behavior data? \n",
    "\n",
    "\n",
    "Let's get started..."
   ]
  },
  {
   "cell_type": "code",
   "execution_count": 1,
   "metadata": {},
   "outputs": [],
   "source": [
    "import pandas as pd\n",
    "import numpy as np\n",
    "import matplotlib.pyplot as plt\n",
    "%matplotlib inline\n",
    "\n",
    "import warnings\n",
    "warnings.filterwarnings('ignore')"
   ]
  },
  {
   "cell_type": "markdown",
   "metadata": {},
   "source": [
    "## Step 0: Load the Data"
   ]
  },
  {
   "cell_type": "code",
   "execution_count": 2,
   "metadata": {},
   "outputs": [
    {
     "name": "stdout",
     "output_type": "stream",
     "text": [
      "(318807, 21)\n",
      "Total number of data records is: 318807\n"
     ]
    }
   ],
   "source": [
    "data = pd.read_csv('data/visit_history.csv')\n",
    "print(data.shape)\n",
    "print('Total number of data records is: {}'.format(data.shape[0])) "
   ]
  },
  {
   "cell_type": "code",
   "execution_count": 3,
   "metadata": {},
   "outputs": [
    {
     "data": {
      "text/html": [
       "<div>\n",
       "<style scoped>\n",
       "    .dataframe tbody tr th:only-of-type {\n",
       "        vertical-align: middle;\n",
       "    }\n",
       "\n",
       "    .dataframe tbody tr th {\n",
       "        vertical-align: top;\n",
       "    }\n",
       "\n",
       "    .dataframe thead th {\n",
       "        text-align: right;\n",
       "    }\n",
       "</style>\n",
       "<table border=\"1\" class=\"dataframe\">\n",
       "  <thead>\n",
       "    <tr style=\"text-align: right;\">\n",
       "      <th></th>\n",
       "      <th>first_time_flag</th>\n",
       "      <th>appointment_flag</th>\n",
       "      <th>sc_flag</th>\n",
       "      <th>arrival_time</th>\n",
       "      <th>depart_time</th>\n",
       "      <th>stay_duration</th>\n",
       "      <th>drive_time_f</th>\n",
       "      <th>drive_time_t</th>\n",
       "      <th>drive_duration</th>\n",
       "      <th>drive_model</th>\n",
       "      <th>Intentional_model</th>\n",
       "      <th>current_brand</th>\n",
       "      <th>trail</th>\n",
       "      <th>quote_flag</th>\n",
       "      <th>order_flag</th>\n",
       "      <th>delivery_flag</th>\n",
       "      <th>objective</th>\n",
       "      <th>area_region</th>\n",
       "      <th>area</th>\n",
       "      <th>tier_city</th>\n",
       "      <th>subregion</th>\n",
       "    </tr>\n",
       "  </thead>\n",
       "  <tbody>\n",
       "    <tr>\n",
       "      <th>0</th>\n",
       "      <td>是</td>\n",
       "      <td>否</td>\n",
       "      <td>否</td>\n",
       "      <td>08:46</td>\n",
       "      <td>08:51</td>\n",
       "      <td>5分</td>\n",
       "      <td>NaN</td>\n",
       "      <td>NaN</td>\n",
       "      <td>NaN</td>\n",
       "      <td>NaN</td>\n",
       "      <td>A/B-Class</td>\n",
       "      <td>奔驰</td>\n",
       "      <td>散客</td>\n",
       "      <td>否</td>\n",
       "      <td>否</td>\n",
       "      <td>否</td>\n",
       "      <td>看车比价</td>\n",
       "      <td>East</td>\n",
       "      <td>Ningbo</td>\n",
       "      <td>Tier 1</td>\n",
       "      <td>East 2</td>\n",
       "    </tr>\n",
       "    <tr>\n",
       "      <th>1</th>\n",
       "      <td>是</td>\n",
       "      <td>否</td>\n",
       "      <td>SC20</td>\n",
       "      <td>08:08</td>\n",
       "      <td>08:08</td>\n",
       "      <td>0分</td>\n",
       "      <td>NaN</td>\n",
       "      <td>NaN</td>\n",
       "      <td>NaN</td>\n",
       "      <td>NaN</td>\n",
       "      <td>NaN</td>\n",
       "      <td>NaN</td>\n",
       "      <td>散客</td>\n",
       "      <td>NaN</td>\n",
       "      <td>NaN</td>\n",
       "      <td>NaN</td>\n",
       "      <td>办手续</td>\n",
       "      <td>North</td>\n",
       "      <td>Beijing</td>\n",
       "      <td>Tier 1</td>\n",
       "      <td>North 1</td>\n",
       "    </tr>\n",
       "    <tr>\n",
       "      <th>2</th>\n",
       "      <td>是</td>\n",
       "      <td>否</td>\n",
       "      <td>否</td>\n",
       "      <td>08:08</td>\n",
       "      <td>08:08</td>\n",
       "      <td>0分</td>\n",
       "      <td>NaN</td>\n",
       "      <td>NaN</td>\n",
       "      <td>NaN</td>\n",
       "      <td>NaN</td>\n",
       "      <td>PbP GLA-Class</td>\n",
       "      <td>NaN</td>\n",
       "      <td>散客</td>\n",
       "      <td>NaN</td>\n",
       "      <td>NaN</td>\n",
       "      <td>NaN</td>\n",
       "      <td>看车比价</td>\n",
       "      <td>North</td>\n",
       "      <td>Beijing</td>\n",
       "      <td>Tier 1</td>\n",
       "      <td>North 1</td>\n",
       "    </tr>\n",
       "    <tr>\n",
       "      <th>3</th>\n",
       "      <td>是</td>\n",
       "      <td>否</td>\n",
       "      <td>SC23</td>\n",
       "      <td>08:21</td>\n",
       "      <td>08:24</td>\n",
       "      <td>3分</td>\n",
       "      <td>NaN</td>\n",
       "      <td>NaN</td>\n",
       "      <td>NaN</td>\n",
       "      <td>NaN</td>\n",
       "      <td>NaN</td>\n",
       "      <td>NaN</td>\n",
       "      <td>散客</td>\n",
       "      <td>NaN</td>\n",
       "      <td>NaN</td>\n",
       "      <td>NaN</td>\n",
       "      <td>办手续</td>\n",
       "      <td>North</td>\n",
       "      <td>Beijing</td>\n",
       "      <td>Tier 1</td>\n",
       "      <td>North 1</td>\n",
       "    </tr>\n",
       "    <tr>\n",
       "      <th>4</th>\n",
       "      <td>是</td>\n",
       "      <td>否</td>\n",
       "      <td>否</td>\n",
       "      <td>08:25</td>\n",
       "      <td>08:37</td>\n",
       "      <td>12分</td>\n",
       "      <td>NaN</td>\n",
       "      <td>NaN</td>\n",
       "      <td>NaN</td>\n",
       "      <td>NaN</td>\n",
       "      <td>PbP C-Class</td>\n",
       "      <td>NaN</td>\n",
       "      <td>散客</td>\n",
       "      <td>NaN</td>\n",
       "      <td>NaN</td>\n",
       "      <td>NaN</td>\n",
       "      <td>看车比价</td>\n",
       "      <td>North</td>\n",
       "      <td>Beijing</td>\n",
       "      <td>Tier 1</td>\n",
       "      <td>North 1</td>\n",
       "    </tr>\n",
       "    <tr>\n",
       "      <th>5</th>\n",
       "      <td>是</td>\n",
       "      <td>否</td>\n",
       "      <td>否</td>\n",
       "      <td>08:46</td>\n",
       "      <td>08:54</td>\n",
       "      <td>8分</td>\n",
       "      <td>NaN</td>\n",
       "      <td>NaN</td>\n",
       "      <td>NaN</td>\n",
       "      <td>NaN</td>\n",
       "      <td>R-Class</td>\n",
       "      <td>NaN</td>\n",
       "      <td>散客</td>\n",
       "      <td>NaN</td>\n",
       "      <td>NaN</td>\n",
       "      <td>NaN</td>\n",
       "      <td>看车比价</td>\n",
       "      <td>North</td>\n",
       "      <td>Beijing</td>\n",
       "      <td>Tier 1</td>\n",
       "      <td>North 1</td>\n",
       "    </tr>\n",
       "    <tr>\n",
       "      <th>6</th>\n",
       "      <td>是</td>\n",
       "      <td>否</td>\n",
       "      <td>否</td>\n",
       "      <td>08:54</td>\n",
       "      <td>08:55</td>\n",
       "      <td>1分</td>\n",
       "      <td>NaN</td>\n",
       "      <td>NaN</td>\n",
       "      <td>NaN</td>\n",
       "      <td>NaN</td>\n",
       "      <td>PbP GLA-Class</td>\n",
       "      <td>NaN</td>\n",
       "      <td>散客</td>\n",
       "      <td>NaN</td>\n",
       "      <td>NaN</td>\n",
       "      <td>NaN</td>\n",
       "      <td>看车比价</td>\n",
       "      <td>North</td>\n",
       "      <td>Beijing</td>\n",
       "      <td>Tier 1</td>\n",
       "      <td>North 1</td>\n",
       "    </tr>\n",
       "    <tr>\n",
       "      <th>7</th>\n",
       "      <td>是</td>\n",
       "      <td>否</td>\n",
       "      <td>SC13</td>\n",
       "      <td>08:19</td>\n",
       "      <td>08:56</td>\n",
       "      <td>37分</td>\n",
       "      <td>08:20</td>\n",
       "      <td>08:40</td>\n",
       "      <td>20分</td>\n",
       "      <td>PbP GLK-Class</td>\n",
       "      <td>PbP-GLK300</td>\n",
       "      <td>NaN</td>\n",
       "      <td>散客</td>\n",
       "      <td>否</td>\n",
       "      <td>否</td>\n",
       "      <td>否</td>\n",
       "      <td>看车比价</td>\n",
       "      <td>North</td>\n",
       "      <td>Beijing</td>\n",
       "      <td>Tier 1</td>\n",
       "      <td>North 1</td>\n",
       "    </tr>\n",
       "    <tr>\n",
       "      <th>8</th>\n",
       "      <td>是</td>\n",
       "      <td>否</td>\n",
       "      <td>008</td>\n",
       "      <td>08:36</td>\n",
       "      <td>08:49</td>\n",
       "      <td>13分</td>\n",
       "      <td>NaN</td>\n",
       "      <td>NaN</td>\n",
       "      <td>NaN</td>\n",
       "      <td>NaN</td>\n",
       "      <td>PbP-C200</td>\n",
       "      <td>NaN</td>\n",
       "      <td>散客</td>\n",
       "      <td>否</td>\n",
       "      <td>否</td>\n",
       "      <td>是</td>\n",
       "      <td>交车</td>\n",
       "      <td>East</td>\n",
       "      <td>Wuxi</td>\n",
       "      <td>Tier 2</td>\n",
       "      <td>East 1</td>\n",
       "    </tr>\n",
       "    <tr>\n",
       "      <th>9</th>\n",
       "      <td>是</td>\n",
       "      <td>否</td>\n",
       "      <td>否</td>\n",
       "      <td>08:43</td>\n",
       "      <td>08:54</td>\n",
       "      <td>11分</td>\n",
       "      <td>NaN</td>\n",
       "      <td>NaN</td>\n",
       "      <td>NaN</td>\n",
       "      <td>NaN</td>\n",
       "      <td>PbP GLK-Class</td>\n",
       "      <td>NaN</td>\n",
       "      <td>散客</td>\n",
       "      <td>是</td>\n",
       "      <td>否</td>\n",
       "      <td>否</td>\n",
       "      <td>看车比价</td>\n",
       "      <td>East</td>\n",
       "      <td>Wuxi</td>\n",
       "      <td>Tier 2</td>\n",
       "      <td>East 1</td>\n",
       "    </tr>\n",
       "  </tbody>\n",
       "</table>\n",
       "</div>"
      ],
      "text/plain": [
       "  first_time_flag appointment_flag sc_flag arrival_time depart_time  \\\n",
       "0               是                否       否        08:46       08:51   \n",
       "1               是                否    SC20        08:08       08:08   \n",
       "2               是                否       否        08:08       08:08   \n",
       "3               是                否    SC23        08:21       08:24   \n",
       "4               是                否       否        08:25       08:37   \n",
       "5               是                否       否        08:46       08:54   \n",
       "6               是                否       否        08:54       08:55   \n",
       "7               是                否    SC13        08:19       08:56   \n",
       "8               是                否     008        08:36       08:49   \n",
       "9               是                否       否        08:43       08:54   \n",
       "\n",
       "  stay_duration drive_time_f drive_time_t drive_duration    drive_model  \\\n",
       "0            5分          NaN          NaN            NaN            NaN   \n",
       "1            0分          NaN          NaN            NaN            NaN   \n",
       "2            0分          NaN          NaN            NaN            NaN   \n",
       "3            3分          NaN          NaN            NaN            NaN   \n",
       "4           12分          NaN          NaN            NaN            NaN   \n",
       "5            8分          NaN          NaN            NaN            NaN   \n",
       "6            1分          NaN          NaN            NaN            NaN   \n",
       "7           37分        08:20        08:40            20分  PbP GLK-Class   \n",
       "8           13分          NaN          NaN            NaN            NaN   \n",
       "9           11分          NaN          NaN            NaN            NaN   \n",
       "\n",
       "  Intentional_model current_brand trail quote_flag order_flag delivery_flag  \\\n",
       "0         A/B-Class            奔驰    散客          否          否             否   \n",
       "1               NaN           NaN    散客        NaN        NaN           NaN   \n",
       "2     PbP GLA-Class           NaN    散客        NaN        NaN           NaN   \n",
       "3               NaN           NaN    散客        NaN        NaN           NaN   \n",
       "4       PbP C-Class           NaN    散客        NaN        NaN           NaN   \n",
       "5           R-Class           NaN    散客        NaN        NaN           NaN   \n",
       "6     PbP GLA-Class           NaN    散客        NaN        NaN           NaN   \n",
       "7        PbP-GLK300           NaN    散客          否          否             否   \n",
       "8          PbP-C200           NaN    散客          否          否             是   \n",
       "9     PbP GLK-Class           NaN    散客          是          否             否   \n",
       "\n",
       "  objective area_region     area tier_city subregion  \n",
       "0      看车比价        East   Ningbo    Tier 1    East 2  \n",
       "1       办手续       North  Beijing    Tier 1   North 1  \n",
       "2      看车比价       North  Beijing    Tier 1   North 1  \n",
       "3       办手续       North  Beijing    Tier 1   North 1  \n",
       "4      看车比价       North  Beijing    Tier 1   North 1  \n",
       "5      看车比价       North  Beijing    Tier 1   North 1  \n",
       "6      看车比价       North  Beijing    Tier 1   North 1  \n",
       "7      看车比价       North  Beijing    Tier 1   North 1  \n",
       "8        交车        East     Wuxi    Tier 2    East 1  \n",
       "9      看车比价        East     Wuxi    Tier 2    East 1  "
      ]
     },
     "execution_count": 3,
     "metadata": {},
     "output_type": "execute_result"
    }
   ],
   "source": [
    "pd.set_option('display.max_columns', 100)\n",
    "data.head(10)"
   ]
  },
  {
   "cell_type": "markdown",
   "metadata": {},
   "source": [
    "## Step 1: Preprocessing"
   ]
  },
  {
   "cell_type": "code",
   "execution_count": 4,
   "metadata": {},
   "outputs": [],
   "source": [
    "# tmp = data.copy()\n",
    "# data = tmp.copy()"
   ]
  },
  {
   "cell_type": "markdown",
   "metadata": {},
   "source": [
    "### Delete rows that are not relevant to current analysis\n",
    "\n",
    "There is a important column \"objective\", we can delete rows directly if the objective is aftersales relevant. "
   ]
  },
  {
   "cell_type": "code",
   "execution_count": 5,
   "metadata": {},
   "outputs": [
    {
     "data": {
      "text/plain": [
       "array(['看车比价', '办手续', '交车', '订单', '其他', '退订', nan, '交车后退车'], dtype=object)"
      ]
     },
     "execution_count": 5,
     "metadata": {},
     "output_type": "execute_result"
    }
   ],
   "source": [
    "data.objective.unique()"
   ]
  },
  {
   "cell_type": "code",
   "execution_count": 6,
   "metadata": {},
   "outputs": [],
   "source": [
    "data.objective = data.objective.map({'看车比价': 'Inquire', '订单':'Order', '交车':'Handover' }) "
   ]
  },
  {
   "cell_type": "code",
   "execution_count": 7,
   "metadata": {},
   "outputs": [],
   "source": [
    "# Only keep the data with objective \"Inquire\", \"Order\" and \"Handover\"\n",
    "data = data[(data.objective=='Inquire') | (data.objective=='Order') | (data.objective=='Handover')]"
   ]
  },
  {
   "cell_type": "code",
   "execution_count": 8,
   "metadata": {},
   "outputs": [
    {
     "name": "stdout",
     "output_type": "stream",
     "text": [
      "(294986, 21)\n",
      "Total number of data records is: 294986\n"
     ]
    }
   ],
   "source": [
    "print(data.shape)\n",
    "print('Total number of data records is: {}'.format(data.shape[0])) "
   ]
  },
  {
   "cell_type": "code",
   "execution_count": 9,
   "metadata": {},
   "outputs": [
    {
     "data": {
      "text/plain": [
       "objective\n",
       "Handover     36187\n",
       "Inquire     223027\n",
       "Order        35772\n",
       "dtype: int64"
      ]
     },
     "execution_count": 9,
     "metadata": {},
     "output_type": "execute_result"
    }
   ],
   "source": [
    "data.groupby(['objective']).size()"
   ]
  },
  {
   "cell_type": "code",
   "execution_count": 10,
   "metadata": {},
   "outputs": [
    {
     "data": {
      "text/plain": [
       "array(['是', '否'], dtype=object)"
      ]
     },
     "execution_count": 10,
     "metadata": {},
     "output_type": "execute_result"
    }
   ],
   "source": [
    "data.first_time_flag.unique()"
   ]
  },
  {
   "cell_type": "code",
   "execution_count": 11,
   "metadata": {},
   "outputs": [],
   "source": [
    "data.first_time_flag = data.first_time_flag.map({'是': 'Y', '否':'N'}) "
   ]
  },
  {
   "cell_type": "code",
   "execution_count": 12,
   "metadata": {},
   "outputs": [
    {
     "data": {
      "image/png": "[encoded data removed]",
      "text/plain": [
       "<Figure size 432x288 with 1 Axes>"
      ]
     },
     "metadata": {
      "needs_background": "light"
     },
     "output_type": "display_data"
    }
   ],
   "source": [
    "data.groupby(['objective','first_time_flag']).size().unstack().plot(kind='bar',stacked=True)\n",
    "plt.show()"
   ]
  },
  {
   "cell_type": "markdown",
   "metadata": {},
   "source": [
    "### Assess Missing Data"
   ]
  },
  {
   "cell_type": "code",
   "execution_count": 13,
   "metadata": {},
   "outputs": [
    {
     "name": "stdout",
     "output_type": "stream",
     "text": [
      "<class 'pandas.core.frame.DataFrame'>\n",
      "Int64Index: 294986 entries, 0 to 318806\n",
      "Data columns (total 21 columns):\n",
      "first_time_flag      294986 non-null object\n",
      "appointment_flag     294986 non-null object\n",
      "sc_flag              294986 non-null object\n",
      "arrival_time         294982 non-null object\n",
      "depart_time          294982 non-null object\n",
      "stay_duration        294982 non-null object\n",
      "drive_time_f         57750 non-null object\n",
      "drive_time_t         57750 non-null object\n",
      "drive_duration       57750 non-null object\n",
      "drive_model          57736 non-null object\n",
      "Intentional_model    294986 non-null object\n",
      "current_brand        143760 non-null object\n",
      "trail                294986 non-null object\n",
      "quote_flag           278217 non-null object\n",
      "order_flag           278217 non-null object\n",
      "delivery_flag        278217 non-null object\n",
      "objective            294986 non-null object\n",
      "area_region          294986 non-null object\n",
      "area                 294986 non-null object\n",
      "tier_city            294986 non-null object\n",
      "subregion            294950 non-null object\n",
      "dtypes: object(21)\n",
      "memory usage: 49.5+ MB\n"
     ]
    }
   ],
   "source": [
    "data.info()"
   ]
  },
  {
   "cell_type": "code",
   "execution_count": 14,
   "metadata": {},
   "outputs": [
    {
     "name": "stdout",
     "output_type": "stream",
     "text": [
      "Total number of missing values is: 1150539\n"
     ]
    },
    {
     "data": {
      "text/plain": [
       "first_time_flag           0\n",
       "appointment_flag          0\n",
       "sc_flag                   0\n",
       "arrival_time              4\n",
       "depart_time               4\n",
       "stay_duration             4\n",
       "drive_time_f         237236\n",
       "drive_time_t         237236\n",
       "drive_duration       237236\n",
       "drive_model          237250\n",
       "Intentional_model         0\n",
       "current_brand        151226\n",
       "trail                     0\n",
       "quote_flag            16769\n",
       "order_flag            16769\n",
       "delivery_flag         16769\n",
       "objective                 0\n",
       "area_region               0\n",
       "area                      0\n",
       "tier_city                 0\n",
       "subregion                36\n",
       "dtype: int64"
      ]
     },
     "execution_count": 14,
     "metadata": {},
     "output_type": "execute_result"
    }
   ],
   "source": [
    "print('Total number of missing values is: {}'.format(data.isnull().sum().sum())) \n",
    "data.isnull().sum()"
   ]
  },
  {
   "cell_type": "code",
   "execution_count": 15,
   "metadata": {},
   "outputs": [
    {
     "data": {
      "text/plain": [
       "drive_model       80.427546\n",
       "drive_duration    80.422800\n",
       "drive_time_t      80.422800\n",
       "drive_time_f      80.422800\n",
       "current_brand     51.265484\n",
       "delivery_flag      5.684677\n",
       "order_flag         5.684677\n",
       "quote_flag         5.684677\n",
       "subregion          0.012204\n",
       "stay_duration      0.001356\n",
       "depart_time        0.001356\n",
       "arrival_time       0.001356\n",
       "dtype: float64"
      ]
     },
     "execution_count": 15,
     "metadata": {},
     "output_type": "execute_result"
    }
   ],
   "source": [
    "missing = data.isnull().sum()\n",
    "pct_missing =(missing[missing > 0] / len(data))*100 \n",
    "pct_missing.sort_values(ascending=False)"
   ]
  },
  {
   "cell_type": "code",
   "execution_count": 16,
   "metadata": {},
   "outputs": [
    {
     "data": {
      "text/plain": [
       "(294986, 21)"
      ]
     },
     "execution_count": 16,
     "metadata": {},
     "output_type": "execute_result"
    }
   ],
   "source": [
    "data.shape"
   ]
  },
  {
   "cell_type": "markdown",
   "metadata": {},
   "source": [
    "Basically the data quality seems good, and there is not too much missing values. \n",
    "5.68% of the data is missing “order_flag”, I decide to delete them because I am not able to distinguish whether he/she make order finally.  "
   ]
  },
  {
   "cell_type": "code",
   "execution_count": 17,
   "metadata": {},
   "outputs": [
    {
     "data": {
      "text/plain": [
       "(278217, 21)"
      ]
     },
     "execution_count": 17,
     "metadata": {},
     "output_type": "execute_result"
    }
   ],
   "source": [
    "data = data[~data.order_flag.isna()]\n",
    "data.shape\n",
    "#data.dropna(subset=['order_flag']) //It doesn't work...any wrong?"
   ]
  },
  {
   "cell_type": "code",
   "execution_count": 18,
   "metadata": {},
   "outputs": [
    {
     "data": {
      "text/plain": [
       "(278213, 21)"
      ]
     },
     "execution_count": 18,
     "metadata": {},
     "output_type": "execute_result"
    }
   ],
   "source": [
    "data = data[~data.arrival_time.isna()]\n",
    "data.shape"
   ]
  },
  {
   "cell_type": "markdown",
   "metadata": {},
   "source": [
    "## Step 2: Feature Transformation"
   ]
  },
  {
   "cell_type": "markdown",
   "metadata": {},
   "source": [
    "Firstly I define a new column \"target\" as our final Y "
   ]
  },
  {
   "cell_type": "code",
   "execution_count": 19,
   "metadata": {},
   "outputs": [],
   "source": [
    "# Merge order_flag and delivery_flag to a target flag\n",
    "data.order_flag = data.order_flag.apply(lambda x : 1 if x == '是' else 0)\n",
    "data.delivery_flag = data.delivery_flag.apply(lambda x : 1 if x == '是' else 0)\n",
    "data['target'] = data.order_flag + data.delivery_flag \n",
    "data.target = data.target.apply(lambda x : 1 if x >= 1 else 0) "
   ]
  },
  {
   "cell_type": "code",
   "execution_count": 20,
   "metadata": {},
   "outputs": [],
   "source": [
    "# Create field of arrival_period, 1 as normal working hour, 0 as non working hour\n",
    "data['period'] = data.arrival_time.str.extract('([0-9]+)\\:', expand=False).astype(int)\n",
    "data['arrival_period'] = 0\n",
    "data.loc[(data.period >= 8) & (data.period <= 21), 'arrival_period'] = 1\n",
    "data.loc[(data.period <  8) | (data.period >  21), 'arrival_period'] = 0"
   ]
  },
  {
   "cell_type": "code",
   "execution_count": 21,
   "metadata": {},
   "outputs": [],
   "source": [
    "# Convert stay_duration to mins\n",
    "data.stay_duration = data.stay_duration.apply(lambda x: int(x.replace('分', '')))\n",
    "# Delete outliers of stay_duration\n",
    "data = data[data.stay_duration > 0] "
   ]
  },
  {
   "cell_type": "code",
   "execution_count": 22,
   "metadata": {},
   "outputs": [],
   "source": [
    "temp_stay_duration_band = []\n",
    "\n",
    "for duration_mins in data['stay_duration']:\n",
    "    if (duration_mins <= 60):\n",
    "        temp_stay_duration_band.append(0)\n",
    "    elif (duration_mins > 60) & (duration_mins <= 80):\n",
    "        temp_stay_duration_band.append(1)\n",
    "    elif (duration_mins > 80) & (duration_mins <= 100):\n",
    "        temp_stay_duration_band.append(2)\n",
    "    elif (duration_mins > 100) & (duration_mins <= 120):\n",
    "        temp_stay_duration_band.append(3)\n",
    "    else:\n",
    "        temp_stay_duration_band.append(4)\n",
    "\n",
    "data['stay_duration_band'] = temp_stay_duration_band"
   ]
  },
  {
   "cell_type": "code",
   "execution_count": 23,
   "metadata": {},
   "outputs": [],
   "source": [
    "# Convert appointment_flag to 1/0\n",
    "data.appointment_flag = data.appointment_flag.replace(['是', '否'], [1, 0])"
   ]
  },
  {
   "cell_type": "code",
   "execution_count": 24,
   "metadata": {},
   "outputs": [],
   "source": [
    "# Convert sc_flag to 1/0 \n",
    "data.sc_flag = data.sc_flag.apply(lambda x : 0 if x == '否' else 1)"
   ]
  },
  {
   "cell_type": "code",
   "execution_count": 25,
   "metadata": {},
   "outputs": [],
   "source": [
    "# Create test_drive_flag 1:Yes, 0:No\n",
    "data['test_drive_flag'] = 0\n",
    "data.loc[data.drive_duration.notnull(), 'test_drive_flag'] = 1"
   ]
  },
  {
   "cell_type": "code",
   "execution_count": 26,
   "metadata": {},
   "outputs": [],
   "source": [
    "# Translate trail to english, and then convert it to one-hot features\n",
    "data.trail = data.trail.map( {'主动集客': 'group-buying', \n",
    "                              '休眠': 'inactive', \n",
    "                              '再购': 'buyagain', \n",
    "                              '呼入': 'callin', \n",
    "                              '推荐': 'recommend', \n",
    "                              '散客': 'independent', \n",
    "                              '活跃': 'active', \n",
    "                              '网络': 'internet'} )\n",
    "data = pd.get_dummies(data, columns=['trail'])"
   ]
  },
  {
   "cell_type": "code",
   "execution_count": 27,
   "metadata": {},
   "outputs": [],
   "source": [
    "# Convert quote_flag to 1/0\n",
    "data.quote_flag = data.quote_flag.replace(['是', '否'], [1, 0])\n",
    "data.quote_flag = data.quote_flag.fillna(0)"
   ]
  },
  {
   "cell_type": "code",
   "execution_count": 28,
   "metadata": {},
   "outputs": [],
   "source": [
    "# Convert first_time_flag to 1/0\n",
    "data.first_time_flag = data.first_time_flag.replace(['Y', 'N'], [1, 0])"
   ]
  },
  {
   "cell_type": "code",
   "execution_count": 29,
   "metadata": {},
   "outputs": [],
   "source": [
    "# Convert tier_city to sequence feature\n",
    "data.tier_city = data.tier_city.map( {'Tier 1': 1, 'Tier 2': 2, 'Tier 3': 3, 'Tier 4': 4} ).astype(int)"
   ]
  },
  {
   "cell_type": "code",
   "execution_count": 30,
   "metadata": {},
   "outputs": [],
   "source": [
    "# Convert subregion to one-hot features\n",
    "data = pd.get_dummies(data, columns=['subregion'])"
   ]
  },
  {
   "cell_type": "markdown",
   "metadata": {},
   "source": [
    "It's not easy to classify their current car brand... To make it simple I create a new fueature brand_flag"
   ]
  },
  {
   "cell_type": "code",
   "execution_count": 31,
   "metadata": {},
   "outputs": [],
   "source": [
    "data['brand_flag'] = data.current_brand.apply(lambda x : 0 if str(x)=='nan' else 1)"
   ]
  },
  {
   "cell_type": "code",
   "execution_count": 32,
   "metadata": {},
   "outputs": [
    {
     "data": {
      "text/plain": [
       "Index(['first_time_flag', 'appointment_flag', 'sc_flag', 'arrival_time',\n",
       "       'depart_time', 'stay_duration', 'drive_time_f', 'drive_time_t',\n",
       "       'drive_duration', 'drive_model', 'Intentional_model', 'current_brand',\n",
       "       'quote_flag', 'order_flag', 'delivery_flag', 'objective', 'area_region',\n",
       "       'area', 'tier_city', 'target', 'period', 'arrival_period',\n",
       "       'stay_duration_band', 'test_drive_flag', 'trail_active',\n",
       "       'trail_buyagain', 'trail_callin', 'trail_group-buying',\n",
       "       'trail_inactive', 'trail_independent', 'trail_internet',\n",
       "       'trail_recommend', 'subregion_East 1', 'subregion_East 2',\n",
       "       'subregion_North 1', 'subregion_North 2', 'subregion_North 3',\n",
       "       'subregion_South 1', 'subregion_South 2', 'subregion_West',\n",
       "       'brand_flag'],\n",
       "      dtype='object')"
      ]
     },
     "execution_count": 32,
     "metadata": {},
     "output_type": "execute_result"
    }
   ],
   "source": [
    "data.columns"
   ]
  },
  {
   "cell_type": "code",
   "execution_count": 33,
   "metadata": {},
   "outputs": [],
   "source": [
    "# delete the columns which we will not use any more\n",
    "final_df = data.drop(['arrival_time',\n",
    "                      'depart_time',\n",
    "                      'drive_time_f',\n",
    "                      'drive_time_t',\n",
    "                      'drive_model',\n",
    "                      'Intentional_model',\n",
    "                      'current_brand',\n",
    "                      'quote_flag', \n",
    "                      'order_flag',\n",
    "                      'delivery_flag',\n",
    "                      'period',\n",
    "                      'objective',\n",
    "                      'area_region',\n",
    "                      'area',\n",
    "                      'stay_duration',\n",
    "                      'drive_duration'], axis=1)"
   ]
  },
  {
   "cell_type": "code",
   "execution_count": 34,
   "metadata": {},
   "outputs": [
    {
     "data": {
      "text/html": [
       "<div>\n",
       "<style scoped>\n",
       "    .dataframe tbody tr th:only-of-type {\n",
       "        vertical-align: middle;\n",
       "    }\n",
       "\n",
       "    .dataframe tbody tr th {\n",
       "        vertical-align: top;\n",
       "    }\n",
       "\n",
       "    .dataframe thead th {\n",
       "        text-align: right;\n",
       "    }\n",
       "</style>\n",
       "<table border=\"1\" class=\"dataframe\">\n",
       "  <thead>\n",
       "    <tr style=\"text-align: right;\">\n",
       "      <th></th>\n",
       "      <th>first_time_flag</th>\n",
       "      <th>appointment_flag</th>\n",
       "      <th>sc_flag</th>\n",
       "      <th>tier_city</th>\n",
       "      <th>target</th>\n",
       "      <th>arrival_period</th>\n",
       "      <th>stay_duration_band</th>\n",
       "      <th>test_drive_flag</th>\n",
       "      <th>trail_active</th>\n",
       "      <th>trail_buyagain</th>\n",
       "      <th>trail_callin</th>\n",
       "      <th>trail_group-buying</th>\n",
       "      <th>trail_inactive</th>\n",
       "      <th>trail_independent</th>\n",
       "      <th>trail_internet</th>\n",
       "      <th>trail_recommend</th>\n",
       "      <th>subregion_East 1</th>\n",
       "      <th>subregion_East 2</th>\n",
       "      <th>subregion_North 1</th>\n",
       "      <th>subregion_North 2</th>\n",
       "      <th>subregion_North 3</th>\n",
       "      <th>subregion_South 1</th>\n",
       "      <th>subregion_South 2</th>\n",
       "      <th>subregion_West</th>\n",
       "      <th>brand_flag</th>\n",
       "    </tr>\n",
       "  </thead>\n",
       "  <tbody>\n",
       "    <tr>\n",
       "      <th>0</th>\n",
       "      <td>1</td>\n",
       "      <td>0</td>\n",
       "      <td>0</td>\n",
       "      <td>1</td>\n",
       "      <td>0</td>\n",
       "      <td>1</td>\n",
       "      <td>0</td>\n",
       "      <td>0</td>\n",
       "      <td>0</td>\n",
       "      <td>0</td>\n",
       "      <td>0</td>\n",
       "      <td>0</td>\n",
       "      <td>0</td>\n",
       "      <td>1</td>\n",
       "      <td>0</td>\n",
       "      <td>0</td>\n",
       "      <td>0</td>\n",
       "      <td>1</td>\n",
       "      <td>0</td>\n",
       "      <td>0</td>\n",
       "      <td>0</td>\n",
       "      <td>0</td>\n",
       "      <td>0</td>\n",
       "      <td>0</td>\n",
       "      <td>1</td>\n",
       "    </tr>\n",
       "    <tr>\n",
       "      <th>7</th>\n",
       "      <td>1</td>\n",
       "      <td>0</td>\n",
       "      <td>1</td>\n",
       "      <td>1</td>\n",
       "      <td>0</td>\n",
       "      <td>1</td>\n",
       "      <td>0</td>\n",
       "      <td>1</td>\n",
       "      <td>0</td>\n",
       "      <td>0</td>\n",
       "      <td>0</td>\n",
       "      <td>0</td>\n",
       "      <td>0</td>\n",
       "      <td>1</td>\n",
       "      <td>0</td>\n",
       "      <td>0</td>\n",
       "      <td>0</td>\n",
       "      <td>0</td>\n",
       "      <td>1</td>\n",
       "      <td>0</td>\n",
       "      <td>0</td>\n",
       "      <td>0</td>\n",
       "      <td>0</td>\n",
       "      <td>0</td>\n",
       "      <td>0</td>\n",
       "    </tr>\n",
       "    <tr>\n",
       "      <th>8</th>\n",
       "      <td>1</td>\n",
       "      <td>0</td>\n",
       "      <td>1</td>\n",
       "      <td>2</td>\n",
       "      <td>1</td>\n",
       "      <td>1</td>\n",
       "      <td>0</td>\n",
       "      <td>0</td>\n",
       "      <td>0</td>\n",
       "      <td>0</td>\n",
       "      <td>0</td>\n",
       "      <td>0</td>\n",
       "      <td>0</td>\n",
       "      <td>1</td>\n",
       "      <td>0</td>\n",
       "      <td>0</td>\n",
       "      <td>1</td>\n",
       "      <td>0</td>\n",
       "      <td>0</td>\n",
       "      <td>0</td>\n",
       "      <td>0</td>\n",
       "      <td>0</td>\n",
       "      <td>0</td>\n",
       "      <td>0</td>\n",
       "      <td>0</td>\n",
       "    </tr>\n",
       "    <tr>\n",
       "      <th>9</th>\n",
       "      <td>1</td>\n",
       "      <td>0</td>\n",
       "      <td>0</td>\n",
       "      <td>2</td>\n",
       "      <td>0</td>\n",
       "      <td>1</td>\n",
       "      <td>0</td>\n",
       "      <td>0</td>\n",
       "      <td>0</td>\n",
       "      <td>0</td>\n",
       "      <td>0</td>\n",
       "      <td>0</td>\n",
       "      <td>0</td>\n",
       "      <td>1</td>\n",
       "      <td>0</td>\n",
       "      <td>0</td>\n",
       "      <td>1</td>\n",
       "      <td>0</td>\n",
       "      <td>0</td>\n",
       "      <td>0</td>\n",
       "      <td>0</td>\n",
       "      <td>0</td>\n",
       "      <td>0</td>\n",
       "      <td>0</td>\n",
       "      <td>0</td>\n",
       "    </tr>\n",
       "    <tr>\n",
       "      <th>10</th>\n",
       "      <td>1</td>\n",
       "      <td>0</td>\n",
       "      <td>0</td>\n",
       "      <td>3</td>\n",
       "      <td>0</td>\n",
       "      <td>1</td>\n",
       "      <td>0</td>\n",
       "      <td>0</td>\n",
       "      <td>0</td>\n",
       "      <td>0</td>\n",
       "      <td>0</td>\n",
       "      <td>0</td>\n",
       "      <td>0</td>\n",
       "      <td>1</td>\n",
       "      <td>0</td>\n",
       "      <td>0</td>\n",
       "      <td>0</td>\n",
       "      <td>0</td>\n",
       "      <td>0</td>\n",
       "      <td>0</td>\n",
       "      <td>0</td>\n",
       "      <td>0</td>\n",
       "      <td>0</td>\n",
       "      <td>1</td>\n",
       "      <td>1</td>\n",
       "    </tr>\n",
       "    <tr>\n",
       "      <th>11</th>\n",
       "      <td>0</td>\n",
       "      <td>0</td>\n",
       "      <td>1</td>\n",
       "      <td>3</td>\n",
       "      <td>0</td>\n",
       "      <td>1</td>\n",
       "      <td>0</td>\n",
       "      <td>0</td>\n",
       "      <td>0</td>\n",
       "      <td>0</td>\n",
       "      <td>0</td>\n",
       "      <td>0</td>\n",
       "      <td>1</td>\n",
       "      <td>0</td>\n",
       "      <td>0</td>\n",
       "      <td>0</td>\n",
       "      <td>0</td>\n",
       "      <td>0</td>\n",
       "      <td>0</td>\n",
       "      <td>0</td>\n",
       "      <td>0</td>\n",
       "      <td>0</td>\n",
       "      <td>1</td>\n",
       "      <td>0</td>\n",
       "      <td>0</td>\n",
       "    </tr>\n",
       "    <tr>\n",
       "      <th>12</th>\n",
       "      <td>1</td>\n",
       "      <td>0</td>\n",
       "      <td>0</td>\n",
       "      <td>1</td>\n",
       "      <td>0</td>\n",
       "      <td>1</td>\n",
       "      <td>0</td>\n",
       "      <td>0</td>\n",
       "      <td>0</td>\n",
       "      <td>0</td>\n",
       "      <td>0</td>\n",
       "      <td>0</td>\n",
       "      <td>0</td>\n",
       "      <td>1</td>\n",
       "      <td>0</td>\n",
       "      <td>0</td>\n",
       "      <td>0</td>\n",
       "      <td>1</td>\n",
       "      <td>0</td>\n",
       "      <td>0</td>\n",
       "      <td>0</td>\n",
       "      <td>0</td>\n",
       "      <td>0</td>\n",
       "      <td>0</td>\n",
       "      <td>1</td>\n",
       "    </tr>\n",
       "    <tr>\n",
       "      <th>14</th>\n",
       "      <td>1</td>\n",
       "      <td>0</td>\n",
       "      <td>0</td>\n",
       "      <td>2</td>\n",
       "      <td>0</td>\n",
       "      <td>1</td>\n",
       "      <td>0</td>\n",
       "      <td>0</td>\n",
       "      <td>0</td>\n",
       "      <td>0</td>\n",
       "      <td>0</td>\n",
       "      <td>0</td>\n",
       "      <td>0</td>\n",
       "      <td>1</td>\n",
       "      <td>0</td>\n",
       "      <td>0</td>\n",
       "      <td>0</td>\n",
       "      <td>0</td>\n",
       "      <td>0</td>\n",
       "      <td>1</td>\n",
       "      <td>0</td>\n",
       "      <td>0</td>\n",
       "      <td>0</td>\n",
       "      <td>0</td>\n",
       "      <td>1</td>\n",
       "    </tr>\n",
       "    <tr>\n",
       "      <th>15</th>\n",
       "      <td>0</td>\n",
       "      <td>1</td>\n",
       "      <td>1</td>\n",
       "      <td>2</td>\n",
       "      <td>1</td>\n",
       "      <td>1</td>\n",
       "      <td>0</td>\n",
       "      <td>0</td>\n",
       "      <td>1</td>\n",
       "      <td>0</td>\n",
       "      <td>0</td>\n",
       "      <td>0</td>\n",
       "      <td>0</td>\n",
       "      <td>0</td>\n",
       "      <td>0</td>\n",
       "      <td>0</td>\n",
       "      <td>0</td>\n",
       "      <td>1</td>\n",
       "      <td>0</td>\n",
       "      <td>0</td>\n",
       "      <td>0</td>\n",
       "      <td>0</td>\n",
       "      <td>0</td>\n",
       "      <td>0</td>\n",
       "      <td>1</td>\n",
       "    </tr>\n",
       "    <tr>\n",
       "      <th>16</th>\n",
       "      <td>0</td>\n",
       "      <td>0</td>\n",
       "      <td>1</td>\n",
       "      <td>2</td>\n",
       "      <td>1</td>\n",
       "      <td>1</td>\n",
       "      <td>0</td>\n",
       "      <td>0</td>\n",
       "      <td>0</td>\n",
       "      <td>0</td>\n",
       "      <td>0</td>\n",
       "      <td>0</td>\n",
       "      <td>0</td>\n",
       "      <td>1</td>\n",
       "      <td>0</td>\n",
       "      <td>0</td>\n",
       "      <td>0</td>\n",
       "      <td>0</td>\n",
       "      <td>0</td>\n",
       "      <td>0</td>\n",
       "      <td>0</td>\n",
       "      <td>0</td>\n",
       "      <td>0</td>\n",
       "      <td>1</td>\n",
       "      <td>0</td>\n",
       "    </tr>\n",
       "  </tbody>\n",
       "</table>\n",
       "</div>"
      ],
      "text/plain": [
       "    first_time_flag  appointment_flag  sc_flag  tier_city  target  \\\n",
       "0                 1                 0        0          1       0   \n",
       "7                 1                 0        1          1       0   \n",
       "8                 1                 0        1          2       1   \n",
       "9                 1                 0        0          2       0   \n",
       "10                1                 0        0          3       0   \n",
       "11                0                 0        1          3       0   \n",
       "12                1                 0        0          1       0   \n",
       "14                1                 0        0          2       0   \n",
       "15                0                 1        1          2       1   \n",
       "16                0                 0        1          2       1   \n",
       "\n",
       "    arrival_period  stay_duration_band  test_drive_flag  trail_active  \\\n",
       "0                1                   0                0             0   \n",
       "7                1                   0                1             0   \n",
       "8                1                   0                0             0   \n",
       "9                1                   0                0             0   \n",
       "10               1                   0                0             0   \n",
       "11               1                   0                0             0   \n",
       "12               1                   0                0             0   \n",
       "14               1                   0                0             0   \n",
       "15               1                   0                0             1   \n",
       "16               1                   0                0             0   \n",
       "\n",
       "    trail_buyagain  trail_callin  trail_group-buying  trail_inactive  \\\n",
       "0                0             0                   0               0   \n",
       "7                0             0                   0               0   \n",
       "8                0             0                   0               0   \n",
       "9                0             0                   0               0   \n",
       "10               0             0                   0               0   \n",
       "11               0             0                   0               1   \n",
       "12               0             0                   0               0   \n",
       "14               0             0                   0               0   \n",
       "15               0             0                   0               0   \n",
       "16               0             0                   0               0   \n",
       "\n",
       "    trail_independent  trail_internet  trail_recommend  subregion_East 1  \\\n",
       "0                   1               0                0                 0   \n",
       "7                   1               0                0                 0   \n",
       "8                   1               0                0                 1   \n",
       "9                   1               0                0                 1   \n",
       "10                  1               0                0                 0   \n",
       "11                  0               0                0                 0   \n",
       "12                  1               0                0                 0   \n",
       "14                  1               0                0                 0   \n",
       "15                  0               0                0                 0   \n",
       "16                  1               0                0                 0   \n",
       "\n",
       "    subregion_East 2  subregion_North 1  subregion_North 2  subregion_North 3  \\\n",
       "0                  1                  0                  0                  0   \n",
       "7                  0                  1                  0                  0   \n",
       "8                  0                  0                  0                  0   \n",
       "9                  0                  0                  0                  0   \n",
       "10                 0                  0                  0                  0   \n",
       "11                 0                  0                  0                  0   \n",
       "12                 1                  0                  0                  0   \n",
       "14                 0                  0                  1                  0   \n",
       "15                 1                  0                  0                  0   \n",
       "16                 0                  0                  0                  0   \n",
       "\n",
       "    subregion_South 1  subregion_South 2  subregion_West  brand_flag  \n",
       "0                   0                  0               0           1  \n",
       "7                   0                  0               0           0  \n",
       "8                   0                  0               0           0  \n",
       "9                   0                  0               0           0  \n",
       "10                  0                  0               1           1  \n",
       "11                  0                  1               0           0  \n",
       "12                  0                  0               0           1  \n",
       "14                  0                  0               0           1  \n",
       "15                  0                  0               0           1  \n",
       "16                  0                  0               1           0  "
      ]
     },
     "execution_count": 34,
     "metadata": {},
     "output_type": "execute_result"
    }
   ],
   "source": [
    "final_df.head(10)"
   ]
  },
  {
   "cell_type": "markdown",
   "metadata": {},
   "source": [
    "## Step 3: Modeling "
   ]
  },
  {
   "cell_type": "code",
   "execution_count": 35,
   "metadata": {},
   "outputs": [],
   "source": [
    "from sklearn.linear_model import LogisticRegression\n",
    "from sklearn.naive_bayes import GaussianNB\n",
    "from sklearn.tree import DecisionTreeClassifier \n",
    "from sklearn.ensemble import RandomForestClassifier\n",
    "from sklearn.metrics import mean_absolute_error\n",
    "from sklearn.metrics import accuracy_score, log_loss\n",
    "from sklearn.metrics import confusion_matrix\n",
    "from sklearn.metrics import classification_report\n",
    "from sklearn.model_selection import train_test_split\n",
    "from sklearn.model_selection import GridSearchCV\n",
    "from sklearn import tree\n",
    "from sklearn import metrics\n",
    "from sklearn.externals import joblib"
   ]
  },
  {
   "cell_type": "code",
   "execution_count": 36,
   "metadata": {},
   "outputs": [
    {
     "name": "stdout",
     "output_type": "stream",
     "text": [
      "(190556, 24)\n",
      "(81668, 24)\n"
     ]
    }
   ],
   "source": [
    "X = final_df.drop(['target'],axis=1).as_matrix()\n",
    "y = final_df['target'].as_matrix()\n",
    "X_train, X_test, y_train, y_test = train_test_split(X, y, test_size=0.3, random_state=0)\n",
    "print(X_train.shape)\n",
    "print(X_test.shape)"
   ]
  },
  {
   "cell_type": "code",
   "execution_count": 37,
   "metadata": {},
   "outputs": [
    {
     "name": "stdout",
     "output_type": "stream",
     "text": [
      "81.42\n",
      "              precision    recall  f1-score   support\n",
      "\n",
      "           0       0.85      0.92      0.88     60743\n",
      "           1       0.68      0.51      0.59     20925\n",
      "\n",
      "   micro avg       0.81      0.81      0.81     81668\n",
      "   macro avg       0.76      0.72      0.73     81668\n",
      "weighted avg       0.80      0.81      0.80     81668\n",
      "\n"
     ]
    }
   ],
   "source": [
    "logreg = LogisticRegression()\n",
    "logreg.fit(X_train, y_train)\n",
    "y_pred_lr = logreg.predict(X_test)\n",
    "y_predprob_lr = logreg.predict_proba(X_test)[:,1]\n",
    "acc_log = round(accuracy_score(y_test, y_pred_lr) * 100, 2)\n",
    "print(acc_log)\n",
    "print(classification_report(y_test, y_pred_lr))"
   ]
  },
  {
   "cell_type": "code",
   "execution_count": 38,
   "metadata": {},
   "outputs": [
    {
     "name": "stdout",
     "output_type": "stream",
     "text": [
      "82.08\n",
      "              precision    recall  f1-score   support\n",
      "\n",
      "           0       0.85      0.92      0.88     60743\n",
      "           1       0.70      0.53      0.60     20925\n",
      "\n",
      "   micro avg       0.82      0.82      0.82     81668\n",
      "   macro avg       0.77      0.73      0.74     81668\n",
      "weighted avg       0.81      0.82      0.81     81668\n",
      "\n"
     ]
    }
   ],
   "source": [
    "random_forest = RandomForestClassifier(n_estimators=100)\n",
    "random_forest.fit(X_train, y_train)\n",
    "y_pred_rf = random_forest.predict(X_test)\n",
    "y_predprob_rf = random_forest.predict_proba(X_test)[:,1]\n",
    "acc_rf = round(accuracy_score(y_test, y_pred_rf) * 100, 2)\n",
    "print(acc_rf)\n",
    "print(classification_report(y_test, y_pred_rf))"
   ]
  },
  {
   "cell_type": "code",
   "execution_count": 43,
   "metadata": {},
   "outputs": [
    {
     "data": {
      "text/plain": [
       "(272224, 24)"
      ]
     },
     "execution_count": 43,
     "metadata": {},
     "output_type": "execute_result"
    }
   ],
   "source": [
    "X.shape"
   ]
  },
  {
   "cell_type": "code",
   "execution_count": 45,
   "metadata": {},
   "outputs": [
    {
     "data": {
      "image/png": "[encoded data removed]",
      "text/plain": [
       "<Figure size 864x720 with 1 Axes>"
      ]
     },
     "metadata": {
      "needs_background": "light"
     },
     "output_type": "display_data"
    }
   ],
   "source": [
    "df = final_df.drop(['target'],axis=1)\n",
    "features = df.columns[:df.shape[1]]\n",
    "importances = random_forest.feature_importances_\n",
    "indices = np.argsort(importances)\n",
    "\n",
    "plt.figure(figsize=(12, 10))\n",
    "plt.title('Feature Importances')\n",
    "plt.barh(range(len(indices)), importances[indices], color='b', align='center')\n",
    "plt.yticks(range(len(indices)), features[indices])\n",
    "plt.xlabel('Relative Importance');"
   ]
  },
  {
   "cell_type": "markdown",
   "metadata": {},
   "source": [
    "## Summary"
   ]
  },
  {
   "cell_type": "code",
   "execution_count": null,
   "metadata": {},
   "outputs": [],
   "source": []
  }
 ],
 "metadata": {
  "kernelspec": {
   "display_name": "Python 3",
   "language": "python",
   "name": "python3"
  },
  "language_info": {
   "codemirror_mode": {
    "name": "ipython",
    "version": 3
   },
   "file_extension": ".py",
   "mimetype": "text/x-python",
   "name": "python",
   "nbconvert_exporter": "python",
   "pygments_lexer": "ipython3",
   "version": "3.7.3"
  }
 },
 "nbformat": 4,
 "nbformat_minor": 2
}
